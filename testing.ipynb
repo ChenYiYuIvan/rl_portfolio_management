{
 "cells": [
  {
   "cell_type": "code",
   "execution_count": 1,
   "metadata": {},
   "outputs": [
    {
     "name": "stdout",
     "output_type": "stream",
     "text": [
      "env: PYTHONPATH=E:/Polito/Tesi/rl_portfolio_management\n"
     ]
    },
    {
     "name": "stderr",
     "output_type": "stream",
     "text": [
      "\n"
     ]
    },
    {
     "name": "stdout",
     "output_type": "stream",
     "text": [
      "\n",
      "[*********************100%***********************]  1 of 1 completed\n",
      "Begin eval!\n",
      "Begin eval!\n",
      "Begin eval!\n",
      "        sharpe_ratio  sortino_ratio  max_drawdown    var_95   cvar_95\n",
      "agent                                                                \n",
      "market      2.119502       2.948378     -0.079036 -0.008707 -0.014647\n",
      "ddpg        2.424574       3.421357     -0.056539 -0.008077 -0.015639\n",
      "sac         2.435168       3.447574     -0.063491 -0.009373 -0.017809\n",
      "crp         2.454515       3.475430     -0.063199 -0.009192 -0.017610\n",
      "Figure(640x480)\n",
      "Figure(640x480)\n"
     ]
    }
   ],
   "source": [
    "%env PYTHONPATH=E:/Polito/Tesi/rl_portfolio_management\n",
    "\n",
    "!python src/test_agent.py"
   ]
  },
  {
   "cell_type": "code",
   "execution_count": 1,
   "metadata": {},
   "outputs": [
    {
     "name": "stderr",
     "output_type": "stream",
     "text": [
      "\n"
     ]
    },
    {
     "name": "stdout",
     "output_type": "stream",
     "text": [
      "[*********************100%***********************]  1 of 1 completed\n",
      "torch.Size([2, 3, 16, 30])\n",
      "torch.Size([2, 1])\n"
     ]
    }
   ],
   "source": [
    "import torch\n",
    "from src.utils.file_utils import read_yaml_config\n",
    "from src.environments.portfolio_end import PortfolioEnd\n",
    "from src.models.gaussian_actor import GaussianActor\n",
    "from src.models.critic import Critic\n",
    "from src.utils.torch_utils import USE_CUDA, FLOAT\n",
    "\n",
    "device = torch.device(\"cuda:0\" if USE_CUDA else \"cpu\")\n",
    "env_config_train = read_yaml_config('env_default_train')\n",
    "env_train = PortfolioEnd(env_config_train)\n",
    "\n",
    "obs = env_train.reset()\n",
    "a,b = obs\n",
    "a = torch.tensor(a, dtype=FLOAT, device=device)\n",
    "b = torch.tensor(b, dtype=FLOAT, device=device)\n",
    "\n",
    "a = torch.stack((a,a))\n",
    "b = torch.stack((b,b))\n",
    "print(a.shape)\n",
    "ga = GaussianActor(3, 30).cuda()\n",
    "\n",
    "c,d = ga(a,b)\n",
    "c\n",
    "\n",
    "crit = Critic(3,17,30).cuda()\n",
    "e = crit(a,b,c)\n",
    "print(d.shape)"
   ]
  },
  {
   "cell_type": "code",
   "execution_count": 5,
   "metadata": {},
   "outputs": [
    {
     "name": "stdout",
     "output_type": "stream",
     "text": [
      "tensor(-17)\n"
     ]
    }
   ],
   "source": [
    "import torch\n",
    "from src.utils.file_utils import read_yaml_config\n",
    "from src.environments.portfolio_end import PortfolioEnd\n",
    "\n",
    "env_config_train = read_yaml_config('env_default_train')\n",
    "env_train = PortfolioEnd(env_config_train)\n",
    "\n",
    "print(-torch.prod(torch.tensor(env_train.action_space.shape)))"
   ]
  },
  {
   "cell_type": "code",
   "execution_count": 6,
   "metadata": {},
   "outputs": [
    {
     "data": {
      "text/plain": [
       "tensor([0, 2])"
      ]
     },
     "execution_count": 6,
     "metadata": {},
     "output_type": "execute_result"
    }
   ],
   "source": [
    "import torch\n",
    "a = torch.tensor([1,2])\n",
    "b = torch.tensor([0, 3])\n",
    "\n",
    "torch.min(a,b)"
   ]
  }
 ],
 "metadata": {
  "kernelspec": {
   "display_name": "Python 3.10.0 ('thesis')",
   "language": "python",
   "name": "python3"
  },
  "language_info": {
   "codemirror_mode": {
    "name": "ipython",
    "version": 3
   },
   "file_extension": ".py",
   "mimetype": "text/x-python",
   "name": "python",
   "nbconvert_exporter": "python",
   "pygments_lexer": "ipython3",
   "version": "3.10.0"
  },
  "orig_nbformat": 4,
  "vscode": {
   "interpreter": {
    "hash": "2694ce7ca87af55650092f94b9b4ed767206d147e1281d7d3919d1a1635166f5"
   }
  }
 },
 "nbformat": 4,
 "nbformat_minor": 2
}
