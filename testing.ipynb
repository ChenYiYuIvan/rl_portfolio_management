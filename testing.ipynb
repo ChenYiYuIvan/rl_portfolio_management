{
 "cells": [
  {
   "cell_type": "code",
   "execution_count": 1,
   "metadata": {},
   "outputs": [
    {
     "name": "stdout",
     "output_type": "stream",
     "text": [
      "env: PYTHONPATH=E:/Polito/Tesi/rl_portfolio_management\n",
      "\n",
      "[*********************100%***********************]  1 of 1 completed\n"
     ]
    },
    {
     "name": "stderr",
     "output_type": "stream",
     "text": [
      "\n",
      "Traceback (most recent call last):\n",
      "  File \"e:\\PoliTo\\Tesi\\rl_portfolio_management\\src\\test_agent.py\", line 36, in <module>\n",
      "    main()\n",
      "  File \"e:\\PoliTo\\Tesi\\rl_portfolio_management\\src\\test_agent.py\", line 23, in main\n",
      "    sac = SACAgent('sac', env, seed, sac_config)\n",
      "  File \"E:\\Polito\\Tesi\\rl_portfolio_management\\src\\agents\\sac_agent.py\", line 18, in __init__\n",
      "    super().__init__(name, env, seed, args)\n",
      "  File \"E:\\Polito\\Tesi\\rl_portfolio_management\\src\\agents\\base_ac_agent.py\", line 48, in __init__\n",
      "    self.checkpoint_folder = f'./checkpoints/{args.checkpoint_folder}_{args.network_type}'\n",
      "AttributeError: 'Struct' object has no attribute 'network_type'\n"
     ]
    }
   ],
   "source": [
    "%env PYTHONPATH=E:/Polito/Tesi/rl_portfolio_management\n",
    "\n",
    "!python src/test_agent.py"
   ]
  },
  {
   "cell_type": "code",
   "execution_count": 1,
   "metadata": {},
   "outputs": [
    {
     "name": "stderr",
     "output_type": "stream",
     "text": [
      "\n"
     ]
    },
    {
     "name": "stdout",
     "output_type": "stream",
     "text": [
      "[*********************100%***********************]  1 of 1 completed\n",
      "torch.Size([2, 3, 16, 30])\n",
      "torch.Size([2, 1])\n"
     ]
    }
   ],
   "source": [
    "import torch\n",
    "from src.utils.file_utils import read_yaml_config\n",
    "from src.environments.portfolio_end import PortfolioEnd\n",
    "from src.models.gaussian_actor import GaussianActor\n",
    "from src.models.critic import Critic\n",
    "from src.utils.torch_utils import USE_CUDA, FLOAT\n",
    "\n",
    "device = torch.device(\"cuda:0\" if USE_CUDA else \"cpu\")\n",
    "env_config_train = read_yaml_config('env_default_train')\n",
    "env_train = PortfolioEnd(env_config_train)\n",
    "\n",
    "obs = env_train.reset()\n",
    "a,b = obs\n",
    "a = torch.tensor(a, dtype=FLOAT, device=device)\n",
    "b = torch.tensor(b, dtype=FLOAT, device=device)\n",
    "\n",
    "a = torch.stack((a,a))\n",
    "b = torch.stack((b,b))\n",
    "print(a.shape)\n",
    "ga = GaussianActor(3, 30).cuda()\n",
    "\n",
    "c,d = ga(a,b)\n",
    "c\n",
    "\n",
    "crit = Critic(3,17,30).cuda()\n",
    "e = crit(a,b,c)\n",
    "print(d.shape)"
   ]
  },
  {
   "cell_type": "code",
   "execution_count": 5,
   "metadata": {},
   "outputs": [
    {
     "name": "stdout",
     "output_type": "stream",
     "text": [
      "tensor(-17)\n"
     ]
    }
   ],
   "source": [
    "import torch\n",
    "from src.utils.file_utils import read_yaml_config\n",
    "from src.environments.portfolio_end import PortfolioEnd\n",
    "\n",
    "env_config_train = read_yaml_config('env_default_train')\n",
    "env_train = PortfolioEnd(env_config_train)\n",
    "\n",
    "print(-torch.prod(torch.tensor(env_train.action_space.shape)))"
   ]
  },
  {
   "cell_type": "code",
   "execution_count": 4,
   "metadata": {},
   "outputs": [
    {
     "name": "stdout",
     "output_type": "stream",
     "text": [
      "0\n"
     ]
    }
   ],
   "source": [
    "import numpy as np\n",
    "\n",
    "a = np.empty(1)\n",
    "a = np.append(a,1)\n",
    "print(len([]))"
   ]
  },
  {
   "cell_type": "code",
   "execution_count": 2,
   "metadata": {},
   "outputs": [
    {
     "name": "stdout",
     "output_type": "stream",
     "text": [
      "torch.Size([2, 17]) tensor([[0.5229],\n",
      "        [0.4605]], grad_fn=<AddmmBackward0>)\n"
     ]
    }
   ],
   "source": [
    "from src.models.cnn_models import DeterministicCNNActor, CNNCritic\n",
    "import torch\n",
    "\n",
    "actor = DeterministicCNNActor(3, 16, 50)\n",
    "critic = CNNCritic(3, 16, 50)\n",
    "\n",
    "obs = torch.rand(2, 3, 16, 50)\n",
    "weights = torch.rand(2, 17)\n",
    "action = torch.rand(2, 17)\n",
    "print(actor(obs, weights).shape, critic(obs, weights, action))"
   ]
  },
  {
   "cell_type": "code",
   "execution_count": 61,
   "metadata": {},
   "outputs": [
    {
     "name": "stdout",
     "output_type": "stream",
     "text": [
      "Discriminator - FLOPs: 419648.0\n",
      "Depthwise separable discriminator - FLOPs: 419136.0\n",
      "Discriminator - Params: 6672\n",
      "Depthwise separable discriminator - Params: 6672\n"
     ]
    }
   ],
   "source": [
    "import torch\n",
    "from ptflops import get_model_complexity_info\n",
    "\n",
    "num_classes = 19\n",
    "\n",
    "with torch.cuda.device(0):\n",
    "\n",
    "    # define models\n",
    "    model = LSTM()\n",
    "    model_depthwise = LSTM2()\n",
    "\n",
    "    # calculate complexities\n",
    "    macs, params = get_model_complexity_info(model, (30,48), as_strings=False,\n",
    "                                        print_per_layer_stat=False, verbose=False)\n",
    "    macs_depthwise, params_depthwise = get_model_complexity_info(model_depthwise, (30,48), as_strings=False,\n",
    "                                                  print_per_layer_stat=False, verbose=False)\n",
    "\n",
    "\n",
    "# FLOPs ~= 2 * MACS\n",
    "print(f'Discriminator - FLOPs: {2 * macs}')\n",
    "print(f'Depthwise separable discriminator - FLOPs: {2 * macs_depthwise}')\n",
    "print(f'Discriminator - Params: {params}')\n",
    "print(f'Depthwise separable discriminator - Params: {params_depthwise}')"
   ]
  },
  {
   "cell_type": "code",
   "execution_count": 7,
   "metadata": {},
   "outputs": [
    {
     "name": "stdout",
     "output_type": "stream",
     "text": [
      "[*********************100%***********************]  1 of 1 completed\n"
     ]
    },
    {
     "data": {
      "text/html": [
       "<div>\n",
       "<style scoped>\n",
       "    .dataframe tbody tr th:only-of-type {\n",
       "        vertical-align: middle;\n",
       "    }\n",
       "\n",
       "    .dataframe tbody tr th {\n",
       "        vertical-align: top;\n",
       "    }\n",
       "\n",
       "    .dataframe thead th {\n",
       "        text-align: right;\n",
       "    }\n",
       "</style>\n",
       "<table border=\"1\" class=\"dataframe\">\n",
       "  <thead>\n",
       "    <tr style=\"text-align: right;\">\n",
       "      <th></th>\n",
       "      <th>Open</th>\n",
       "      <th>High</th>\n",
       "      <th>Low</th>\n",
       "      <th>Close</th>\n",
       "      <th>Volume</th>\n",
       "    </tr>\n",
       "    <tr>\n",
       "      <th>Date</th>\n",
       "      <th></th>\n",
       "      <th></th>\n",
       "      <th></th>\n",
       "      <th></th>\n",
       "      <th></th>\n",
       "    </tr>\n",
       "  </thead>\n",
       "  <tbody>\n",
       "    <tr>\n",
       "      <th>2010-01-04</th>\n",
       "      <td>7.622500</td>\n",
       "      <td>7.660714</td>\n",
       "      <td>7.585000</td>\n",
       "      <td>7.643214</td>\n",
       "      <td>493729600</td>\n",
       "    </tr>\n",
       "    <tr>\n",
       "      <th>2010-01-05</th>\n",
       "      <td>7.664286</td>\n",
       "      <td>7.699643</td>\n",
       "      <td>7.616071</td>\n",
       "      <td>7.656429</td>\n",
       "      <td>601904800</td>\n",
       "    </tr>\n",
       "    <tr>\n",
       "      <th>2010-01-06</th>\n",
       "      <td>7.656429</td>\n",
       "      <td>7.686786</td>\n",
       "      <td>7.526786</td>\n",
       "      <td>7.534643</td>\n",
       "      <td>552160000</td>\n",
       "    </tr>\n",
       "    <tr>\n",
       "      <th>2010-01-07</th>\n",
       "      <td>7.562500</td>\n",
       "      <td>7.571429</td>\n",
       "      <td>7.466071</td>\n",
       "      <td>7.520714</td>\n",
       "      <td>477131200</td>\n",
       "    </tr>\n",
       "    <tr>\n",
       "      <th>2010-01-08</th>\n",
       "      <td>7.510714</td>\n",
       "      <td>7.571429</td>\n",
       "      <td>7.466429</td>\n",
       "      <td>7.570714</td>\n",
       "      <td>447610800</td>\n",
       "    </tr>\n",
       "    <tr>\n",
       "      <th>2010-01-11</th>\n",
       "      <td>7.600000</td>\n",
       "      <td>7.607143</td>\n",
       "      <td>7.444643</td>\n",
       "      <td>7.503929</td>\n",
       "      <td>462229600</td>\n",
       "    </tr>\n",
       "  </tbody>\n",
       "</table>\n",
       "</div>"
      ],
      "text/plain": [
       "                Open      High       Low     Close     Volume\n",
       "Date                                                         \n",
       "2010-01-04  7.622500  7.660714  7.585000  7.643214  493729600\n",
       "2010-01-05  7.664286  7.699643  7.616071  7.656429  601904800\n",
       "2010-01-06  7.656429  7.686786  7.526786  7.534643  552160000\n",
       "2010-01-07  7.562500  7.571429  7.466071  7.520714  477131200\n",
       "2010-01-08  7.510714  7.571429  7.466429  7.570714  447610800\n",
       "2010-01-11  7.600000  7.607143  7.444643  7.503929  462229600"
      ]
     },
     "execution_count": 7,
     "metadata": {},
     "output_type": "execute_result"
    }
   ],
   "source": [
    "import numpy as np\n",
    "import yfinance as yf\n",
    "import datetime as dt\n",
    "\n",
    "_start_date = '2010-01-01'\n",
    "_end_date = '2010-01-11'\n",
    "_date_fmt = '%Y-%m-%d'\n",
    "\n",
    "yf.download('AAPL',\n",
    "start=(dt.datetime.strptime(_start_date, _date_fmt) +\n",
    "        dt.timedelta(1)).strftime(_date_fmt),\n",
    "end=(dt.datetime.strptime(_end_date, _date_fmt) + dt.timedelta(1)).strftime(_date_fmt)\n",
    ").drop(columns=['Adj Close'])\n",
    "\n"
   ]
  },
  {
   "cell_type": "code",
   "execution_count": 3,
   "metadata": {},
   "outputs": [
    {
     "name": "stdout",
     "output_type": "stream",
     "text": [
      "[*********************100%***********************]  1 of 1 completed\n",
      "[*********************100%***********************]  1 of 1 completed\n",
      "[*********************100%***********************]  1 of 1 completed\n"
     ]
    }
   ],
   "source": [
    "from src.environments.market import Market\n",
    "\n",
    "m = Market('2010-01-01', '2010-01-09', 3, ['AAPL', 'SPY'])"
   ]
  },
  {
   "cell_type": "code",
   "execution_count": 1,
   "metadata": {},
   "outputs": [
    {
     "name": "stdout",
     "output_type": "stream",
     "text": [
      "torch.Size([2, 17]) torch.Size([2, 1]) torch.Size([2, 1])\n"
     ]
    }
   ],
   "source": [
    "from src.models.cnn_gru_models import DeterministicCNNGRUActor, DoubleCNNGRUCritic\n",
    "import torch\n",
    "\n",
    "actor = DeterministicCNNGRUActor(3, 16)\n",
    "critic = DoubleCNNGRUCritic(3, 16)\n",
    "\n",
    "obs = torch.rand(2, 3, 50, 16)\n",
    "weights = torch.rand(2, 17)\n",
    "action = torch.rand(2, 17)\n",
    "\n",
    "a,b = critic(obs, weights, action)\n",
    "\n",
    "print(actor(obs, weights).shape, a.shape, b.shape)"
   ]
  },
  {
   "cell_type": "code",
   "execution_count": 12,
   "metadata": {},
   "outputs": [
    {
     "name": "stdout",
     "output_type": "stream",
     "text": [
      "\n",
      "conv1\n",
      "conv2\n",
      "gru\n",
      "fc\n",
      "leakyrelu\n",
      "softmax\n"
     ]
    }
   ],
   "source": [
    "for name, module in actor.named_modules():\n",
    "    print(name)"
   ]
  },
  {
   "cell_type": "code",
   "execution_count": 1,
   "metadata": {},
   "outputs": [],
   "source": [
    "from src.models.gru_models import DeterministicGRUActor, DoubleGRUCritic\n",
    "import torch\n",
    "\n",
    "actor = DeterministicGRUActor(3*16, 17)\n",
    "critic = DoubleGRUCritic(3*16, 17)\n",
    "\n",
    "obs = torch.rand(2, 50, 16, 3)\n",
    "weights = torch.rand(2, 17)\n",
    "action = torch.rand(2, 17)\n",
    "\n",
    "a,b = critic(obs, weights, action)\n",
    "\n",
    "#print(actor(obs, weights).shape, a.shape, b.shape)"
   ]
  },
  {
   "cell_type": "code",
   "execution_count": 18,
   "metadata": {},
   "outputs": [
    {
     "name": "stdout",
     "output_type": "stream",
     "text": [
      "[*********************100%***********************]  1 of 1 completed\n",
      "[*********************100%***********************]  1 of 1 completed\n",
      "[*********************100%***********************]  1 of 1 completed\n",
      "[*********************100%***********************]  1 of 1 completed\n",
      "[*********************100%***********************]  1 of 1 completed\n",
      "[*********************100%***********************]  1 of 1 completed\n",
      "[*********************100%***********************]  1 of 1 completed\n",
      "[*********************100%***********************]  1 of 1 completed\n",
      "[*********************100%***********************]  1 of 1 completed\n",
      "[*********************100%***********************]  1 of 1 completed\n",
      "[*********************100%***********************]  1 of 1 completed\n",
      "[*********************100%***********************]  1 of 1 completed\n",
      "[*********************100%***********************]  1 of 1 completed\n",
      "[*********************100%***********************]  1 of 1 completed\n",
      "[*********************100%***********************]  1 of 1 completed\n",
      "[*********************100%***********************]  1 of 1 completed\n",
      "[*********************100%***********************]  1 of 1 completed\n",
      "[*********************100%***********************]  1 of 1 completed\n"
     ]
    }
   ],
   "source": [
    "from src.environments.market import Market\n",
    "\n",
    "m = Market('2010-01-01', '2020-01-01', 50, ['SPY',\n",
    "'AAPL',\n",
    "'AMZN',\n",
    "'ATVI',\n",
    "'CMCSA',\n",
    "'COST',\n",
    "'CSX',\n",
    "'DISH',\n",
    "'EA',\n",
    "'EBAY',\n",
    "'GOOGL',\n",
    "'HAS',\n",
    "'ILMN',\n",
    "'INTC',\n",
    "'MAR',\n",
    "'REGN',\n",
    "'SBUX'\n",
    "])"
   ]
  },
  {
   "cell_type": "code",
   "execution_count": 66,
   "metadata": {},
   "outputs": [
    {
     "name": "stdout",
     "output_type": "stream",
     "text": [
      "-0.07887444422666645 0.1219072626887785\n"
     ]
    }
   ],
   "source": [
    "from src.utils.data_utils import prices_to_logreturns, remove_not_used\n",
    "\n",
    "a,b,done = m.step()\n",
    "\n",
    "a = prices_to_logreturns(a)\n",
    "a = remove_not_used(a, open=True,high=True,low=True).squeeze()\n",
    "\n",
    "print(a.min(), a.max())"
   ]
  }
 ],
 "metadata": {
  "kernelspec": {
   "display_name": "Python 3.10.0 ('thesis')",
   "language": "python",
   "name": "python3"
  },
  "language_info": {
   "codemirror_mode": {
    "name": "ipython",
    "version": 3
   },
   "file_extension": ".py",
   "mimetype": "text/x-python",
   "name": "python",
   "nbconvert_exporter": "python",
   "pygments_lexer": "ipython3",
   "version": "3.10.0"
  },
  "orig_nbformat": 4,
  "vscode": {
   "interpreter": {
    "hash": "2694ce7ca87af55650092f94b9b4ed767206d147e1281d7d3919d1a1635166f5"
   }
  }
 },
 "nbformat": 4,
 "nbformat_minor": 2
}
