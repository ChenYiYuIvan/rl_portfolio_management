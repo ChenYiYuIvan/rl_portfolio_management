{
 "cells": [
  {
   "cell_type": "code",
   "execution_count": 1,
   "metadata": {},
   "outputs": [
    {
     "name": "stdout",
     "output_type": "stream",
     "text": [
      "env: PYTHONPATH=E:/Polito/Tesi/rl_portfolio_management\n",
      "\n",
      "[*********************100%***********************]  1 of 1 completed\n"
     ]
    },
    {
     "name": "stderr",
     "output_type": "stream",
     "text": [
      "\n",
      "Traceback (most recent call last):\n",
      "  File \"e:\\PoliTo\\Tesi\\rl_portfolio_management\\src\\test_agent.py\", line 36, in <module>\n",
      "    main()\n",
      "  File \"e:\\PoliTo\\Tesi\\rl_portfolio_management\\src\\test_agent.py\", line 23, in main\n",
      "    sac = SACAgent('sac', env, seed, sac_config)\n",
      "  File \"E:\\Polito\\Tesi\\rl_portfolio_management\\src\\agents\\sac_agent.py\", line 18, in __init__\n",
      "    super().__init__(name, env, seed, args)\n",
      "  File \"E:\\Polito\\Tesi\\rl_portfolio_management\\src\\agents\\base_ac_agent.py\", line 48, in __init__\n",
      "    self.checkpoint_folder = f'./checkpoints/{args.checkpoint_folder}_{args.network_type}'\n",
      "AttributeError: 'Struct' object has no attribute 'network_type'\n"
     ]
    }
   ],
   "source": [
    "%env PYTHONPATH=E:/Polito/Tesi/rl_portfolio_management\n",
    "\n",
    "!python src/test_agent.py"
   ]
  },
  {
   "cell_type": "code",
   "execution_count": 1,
   "metadata": {},
   "outputs": [
    {
     "name": "stderr",
     "output_type": "stream",
     "text": [
      "\n"
     ]
    },
    {
     "name": "stdout",
     "output_type": "stream",
     "text": [
      "[*********************100%***********************]  1 of 1 completed\n",
      "torch.Size([2, 3, 16, 30])\n",
      "torch.Size([2, 1])\n"
     ]
    }
   ],
   "source": [
    "import torch\n",
    "from src.utils.file_utils import read_yaml_config\n",
    "from src.environments.portfolio_end import PortfolioEnd\n",
    "from src.models.gaussian_actor import GaussianActor\n",
    "from src.models.critic import Critic\n",
    "from src.utils.torch_utils import USE_CUDA, FLOAT\n",
    "\n",
    "device = torch.device(\"cuda:0\" if USE_CUDA else \"cpu\")\n",
    "env_config_train = read_yaml_config('env_default_train')\n",
    "env_train = PortfolioEnd(env_config_train)\n",
    "\n",
    "obs = env_train.reset()\n",
    "a,b = obs\n",
    "a = torch.tensor(a, dtype=FLOAT, device=device)\n",
    "b = torch.tensor(b, dtype=FLOAT, device=device)\n",
    "\n",
    "a = torch.stack((a,a))\n",
    "b = torch.stack((b,b))\n",
    "print(a.shape)\n",
    "ga = GaussianActor(3, 30).cuda()\n",
    "\n",
    "c,d = ga(a,b)\n",
    "c\n",
    "\n",
    "crit = Critic(3,17,30).cuda()\n",
    "e = crit(a,b,c)\n",
    "print(d.shape)"
   ]
  },
  {
   "cell_type": "code",
   "execution_count": 5,
   "metadata": {},
   "outputs": [
    {
     "name": "stdout",
     "output_type": "stream",
     "text": [
      "tensor(-17)\n"
     ]
    }
   ],
   "source": [
    "import torch\n",
    "from src.utils.file_utils import read_yaml_config\n",
    "from src.environments.portfolio_end import PortfolioEnd\n",
    "\n",
    "env_config_train = read_yaml_config('env_default_train')\n",
    "env_train = PortfolioEnd(env_config_train)\n",
    "\n",
    "print(-torch.prod(torch.tensor(env_train.action_space.shape)))"
   ]
  },
  {
   "cell_type": "code",
   "execution_count": 4,
   "metadata": {},
   "outputs": [
    {
     "name": "stdout",
     "output_type": "stream",
     "text": [
      "0\n"
     ]
    }
   ],
   "source": [
    "import numpy as np\n",
    "\n",
    "a = np.empty(1)\n",
    "a = np.append(a,1)\n",
    "print(len([]))"
   ]
  },
  {
   "cell_type": "code",
   "execution_count": 57,
   "metadata": {},
   "outputs": [
    {
     "name": "stdout",
     "output_type": "stream",
     "text": [
      "torch.Size([64, 30, 16])\n",
      "torch.Size([2, 64, 16])\n",
      "torch.Size([64, 30, 16])\n",
      "torch.Size([1, 64, 16])\n",
      "True\n",
      "True\n",
      "False\n",
      "False\n"
     ]
    }
   ],
   "source": [
    "from unicodedata import bidirectional\n",
    "import torch\n",
    "import torch.nn as nn\n",
    "\n",
    "class LSTM(nn.Module):\n",
    "\n",
    "    def __init__(self):\n",
    "        super().__init__()\n",
    "        self.lstm1 = nn.LSTM(48,16,2, batch_first=True)\n",
    "\n",
    "        self.fc = nn.Linear(16,16)\n",
    "\n",
    "\n",
    "    def forward(self, x):\n",
    "        \n",
    "        x1, (hn,cn) = self.lstm1(x)\n",
    "\n",
    "        a = self.fc(x1)\n",
    "        b = self.fc(hn)\n",
    "\n",
    "\n",
    "        return a,b\n",
    "\n",
    "class LSTM2(nn.Module):\n",
    "    \n",
    "    def __init__(self):\n",
    "        super().__init__()\n",
    "        self.fc = nn.Linear(16,16)\n",
    "\n",
    "        self.lstm3 = nn.LSTM(48,16,batch_first=True)\n",
    "        self.lstm4 = nn.LSTM(16,16,batch_first=True)\n",
    "\n",
    "    def forward(self, x):\n",
    "\n",
    "        x2, (hn,cn) = self.lstm3(x)\n",
    "        x2, (hn,cn) = self.lstm4(x2)\n",
    "\n",
    "        a2 = self.fc(x2)\n",
    "        b2 = self.fc(hn)\n",
    "\n",
    "        return a2,b2\n",
    "\n",
    "\n",
    "\n",
    "lstm = LSTM()\n",
    "lstm2 = LSTM2()\n",
    "\n",
    "a = torch.rand(64,30,48)\n",
    "#out, (hidden, cell) = lstm(a)\n",
    "a1,a2 = lstm(a)\n",
    "a3,a4 = lstm2(a)\n",
    "print(a1.shape)\n",
    "print(a2.shape)\n",
    "print(a3.shape)\n",
    "print(a4.shape)\n",
    "print(torch.allclose(a1[:,-1,:], a2[-1,:,:]))\n",
    "print(torch.allclose(a3[:,-1,:], a4.squeeze()))\n",
    "print(torch.allclose(a1,a3))\n",
    "print(torch.allclose(a2[-1,:,:],a4))"
   ]
  },
  {
   "cell_type": "code",
   "execution_count": 61,
   "metadata": {},
   "outputs": [
    {
     "name": "stdout",
     "output_type": "stream",
     "text": [
      "Discriminator - FLOPs: 419648.0\n",
      "Depthwise separable discriminator - FLOPs: 419136.0\n",
      "Discriminator - Params: 6672\n",
      "Depthwise separable discriminator - Params: 6672\n"
     ]
    }
   ],
   "source": [
    "import torch\n",
    "from ptflops import get_model_complexity_info\n",
    "\n",
    "num_classes = 19\n",
    "\n",
    "with torch.cuda.device(0):\n",
    "\n",
    "    # define models\n",
    "    model = LSTM()\n",
    "    model_depthwise = LSTM2()\n",
    "\n",
    "    # calculate complexities\n",
    "    macs, params = get_model_complexity_info(model, (30,48), as_strings=False,\n",
    "                                        print_per_layer_stat=False, verbose=False)\n",
    "    macs_depthwise, params_depthwise = get_model_complexity_info(model_depthwise, (30,48), as_strings=False,\n",
    "                                                  print_per_layer_stat=False, verbose=False)\n",
    "\n",
    "\n",
    "# FLOPs ~= 2 * MACS\n",
    "print(f'Discriminator - FLOPs: {2 * macs}')\n",
    "print(f'Depthwise separable discriminator - FLOPs: {2 * macs_depthwise}')\n",
    "print(f'Discriminator - Params: {params}')\n",
    "print(f'Depthwise separable discriminator - Params: {params_depthwise}')"
   ]
  },
  {
   "cell_type": "code",
   "execution_count": 68,
   "metadata": {},
   "outputs": [
    {
     "data": {
      "text/plain": [
       "tensor([[0.3333, 0.3333, 0.3333]])"
      ]
     },
     "execution_count": 68,
     "metadata": {},
     "output_type": "execute_result"
    }
   ],
   "source": [
    "import torch\n",
    "import torch.nn as nn\n",
    "\n",
    "a = torch.ones(1,3)\n",
    "nn.Softmax(-1)(a)"
   ]
  }
 ],
 "metadata": {
  "kernelspec": {
   "display_name": "Python 3.10.0 ('thesis')",
   "language": "python",
   "name": "python3"
  },
  "language_info": {
   "codemirror_mode": {
    "name": "ipython",
    "version": 3
   },
   "file_extension": ".py",
   "mimetype": "text/x-python",
   "name": "python",
   "nbconvert_exporter": "python",
   "pygments_lexer": "ipython3",
   "version": "3.10.0"
  },
  "orig_nbformat": 4,
  "vscode": {
   "interpreter": {
    "hash": "2694ce7ca87af55650092f94b9b4ed767206d147e1281d7d3919d1a1635166f5"
   }
  }
 },
 "nbformat": 4,
 "nbformat_minor": 2
}
