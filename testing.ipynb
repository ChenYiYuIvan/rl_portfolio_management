{
 "cells": [
  {
   "cell_type": "code",
   "execution_count": 1,
   "metadata": {},
   "outputs": [
    {
     "name": "stdout",
     "output_type": "stream",
     "text": [
      "env: PYTHONPATH=E:/Polito/Tesi/rl_portfolio_management\n",
      "^C\n"
     ]
    }
   ],
   "source": [
    "%env PYTHONPATH=E:/Polito/Tesi/rl_portfolio_management\n",
    "\n",
    "!python src/train_model.py"
   ]
  },
  {
   "cell_type": "code",
   "execution_count": 1,
   "metadata": {},
   "outputs": [
    {
     "name": "stderr",
     "output_type": "stream",
     "text": [
      "\n"
     ]
    },
    {
     "name": "stdout",
     "output_type": "stream",
     "text": [
      "[*********************100%***********************]  1 of 1 completed\n",
      "torch.Size([2, 3, 16, 30])\n",
      "torch.Size([2, 1])\n"
     ]
    }
   ],
   "source": [
    "import torch\n",
    "from src.utils.file_utils import read_yaml_config\n",
    "from src.environments.portfolio_end import PortfolioEnd\n",
    "from src.models.gaussian_actor import GaussianActor\n",
    "from src.models.critic import Critic\n",
    "from src.utils.torch_utils import USE_CUDA, FLOAT\n",
    "\n",
    "device = torch.device(\"cuda:0\" if USE_CUDA else \"cpu\")\n",
    "env_config_train = read_yaml_config('env_default_train')\n",
    "env_train = PortfolioEnd(env_config_train)\n",
    "\n",
    "obs = env_train.reset()\n",
    "a,b = obs\n",
    "a = torch.tensor(a, dtype=FLOAT, device=device)\n",
    "b = torch.tensor(b, dtype=FLOAT, device=device)\n",
    "\n",
    "a = torch.stack((a,a))\n",
    "b = torch.stack((b,b))\n",
    "print(a.shape)\n",
    "ga = GaussianActor(3, 30).cuda()\n",
    "\n",
    "c,d = ga(a,b)\n",
    "c\n",
    "\n",
    "crit = Critic(3,17,30).cuda()\n",
    "e = crit(a,b,c)\n",
    "print(d.shape)"
   ]
  }
 ],
 "metadata": {
  "kernelspec": {
   "display_name": "Python 3.10.0 ('thesis')",
   "language": "python",
   "name": "python3"
  },
  "language_info": {
   "codemirror_mode": {
    "name": "ipython",
    "version": 3
   },
   "file_extension": ".py",
   "mimetype": "text/x-python",
   "name": "python",
   "nbconvert_exporter": "python",
   "pygments_lexer": "ipython3",
   "version": "3.10.0"
  },
  "orig_nbformat": 4,
  "vscode": {
   "interpreter": {
    "hash": "2694ce7ca87af55650092f94b9b4ed767206d147e1281d7d3919d1a1635166f5"
   }
  }
 },
 "nbformat": 4,
 "nbformat_minor": 2
}
